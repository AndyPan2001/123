{
 "cells": [
  {
   "cell_type": "code",
   "execution_count": null,
   "metadata": {},
   "outputs": [],
   "source": [
    "1\n",
    "height,weight=eval(input('Enter the height,weight:'))\n",
    "area=height*weight\n",
    "perimeter=2*(height)+2*(weight)\n",
    "print('area =%.2f'%(area))\n",
    "print('perimeter=%.2f'%perimeter)"
   ]
  },
  {
   "cell_type": "code",
   "execution_count": null,
   "metadata": {},
   "outputs": [],
   "source": [
    "2\n",
    "s=eval(input('Enter the s:'))\n",
    "height=(3**1/2)/2*s\n",
    "area=(3**1/2)/4*s**2\n",
    "print('height=%.2f'%(height))\n",
    "print('area=%.2f'%(area))"
   ]
  },
  {
   "cell_type": "code",
   "execution_count": null,
   "metadata": {},
   "outputs": [],
   "source": [
    "3\n",
    "x,y,z=eval(input('Enter the x,y,z:'))\n"
   ]
  },
  {
   "cell_type": "code",
   "execution_count": null,
   "metadata": {},
   "outputs": [],
   "source": [
    "4\n",
    "miles=eval(input('Enter the miles'))\n",
    "km=miles/8*5\n",
    "print('km=%.2f'%(km))"
   ]
  },
  {
   "cell_type": "code",
   "execution_count": null,
   "metadata": {},
   "outputs": [],
   "source": [
    "5\n",
    "fahrenheit=eval(input('Enter the fahrenheit'))\n",
    "celsius=(fahrenheit-32)*5/9\n",
    "print('celsius=%.2f'%(celsius))"
   ]
  },
  {
   "cell_type": "code",
   "execution_count": null,
   "metadata": {},
   "outputs": [],
   "source": [
    "6\n",
    "x,y,z=eval(input('Enter the x,y,z'))\n",
    "sum=x+y+z\n",
    "average=(x+y+z)/3\n",
    "print('sum=%.2f'%(sum))\n",
    "print('average=%.2f'%(average))"
   ]
  },
  {
   "cell_type": "code",
   "execution_count": null,
   "metadata": {},
   "outputs": [],
   "source": [
    "7\n",
    "name,number,adress=eval(input('Enter the name,number,adress:'))"
   ]
  },
  {
   "cell_type": "code",
   "execution_count": null,
   "metadata": {},
   "outputs": [],
   "source": [
    "10\n",
    "x,y=eval(input('Enter the x,y'))\n",
    "ans=(3+4*x)/5-(10*(y-5)*(x+y+5))/x+9*((4/x)+(9+x)/y)\n",
    "print('ans=%.2f'%(ans))"
   ]
  },
  {
   "cell_type": "code",
   "execution_count": null,
   "metadata": {},
   "outputs": [],
   "source": [
    "11\n",
    "a,b,c=eval(input('Enter the a,b,,c'))\n",
    "ans=4/3*(a+34)-9*(a+b*c)+(3+3*(2+a))/a+3*b\n",
    "print('ans=%.2f'%(ans))"
   ]
  },
  {
   "cell_type": "code",
   "execution_count": null,
   "metadata": {},
   "outputs": [],
   "source": [
    "import os"
   ]
  },
  {
   "cell_type": "code",
   "execution_count": null,
   "metadata": {},
   "outputs": [],
   "source": [
    "os.getcwd()"
   ]
  },
  {
   "cell_type": "code",
   "execution_count": null,
   "metadata": {},
   "outputs": [],
   "source": []
  }
 ],
 "metadata": {
  "kernelspec": {
   "display_name": "Python 3",
   "language": "python",
   "name": "python3"
  },
  "language_info": {
   "codemirror_mode": {
    "name": "ipython",
    "version": 3
   },
   "file_extension": ".py",
   "mimetype": "text/x-python",
   "name": "python",
   "nbconvert_exporter": "python",
   "pygments_lexer": "ipython3",
   "version": "3.8.3"
  }
 },
 "nbformat": 4,
 "nbformat_minor": 4
}
