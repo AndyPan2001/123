{
 "cells": [
  {
   "cell_type": "code",
   "execution_count": 1,
   "metadata": {},
   "outputs": [
    {
     "name": "stdout",
     "output_type": "stream",
     "text": [
      "Enter the height,weight:23.5,19\n",
      "area=446.50\n",
      "perimeter=85.00\n"
     ]
    }
   ],
   "source": [
    "height,weight=eval(input('Enter the height,weight:'))\n",
    "area=height*weight\n",
    "perimeter=2*(weight+height)\n",
    "print('area=%.2f'%(area))\n",
    "print('perimeter=%.2f'%(perimeter))"
   ]
  },
  {
   "cell_type": "code",
   "execution_count": 2,
   "metadata": {},
   "outputs": [
    {
     "name": "stdout",
     "output_type": "stream",
     "text": [
      "Enter the s2\n",
      "height=3.46\n",
      "area=1.73\n"
     ]
    }
   ],
   "source": [
    "s=eval(input('Enter the s'))\n",
    "height=((3**(1/2))/2)*s**2\n",
    "area=3**(1/2)/4*s**2\n",
    "print('height=%.2f'%(height))\n",
    "print('area=%.2f'%(area))"
   ]
  },
  {
   "cell_type": "code",
   "execution_count": null,
   "metadata": {},
   "outputs": [],
   "source": [
    "x,y=eval(input('Enter the x,y'))\n",
    "x=(min)\n",
    "y=(sec)"
   ]
  },
  {
   "cell_type": "code",
   "execution_count": null,
   "metadata": {},
   "outputs": [],
   "source": [
    "\n"
   ]
  }
 ],
 "metadata": {
  "kernelspec": {
   "display_name": "Python 3",
   "language": "python",
   "name": "python3"
  },
  "language_info": {
   "codemirror_mode": {
    "name": "ipython",
    "version": 3
   },
   "file_extension": ".py",
   "mimetype": "text/x-python",
   "name": "python",
   "nbconvert_exporter": "python",
   "pygments_lexer": "ipython3",
   "version": "3.7.4"
  }
 },
 "nbformat": 4,
 "nbformat_minor": 2
}
